{
 "cells": [
  {
   "cell_type": "code",
   "execution_count": 6,
   "metadata": {},
   "outputs": [],
   "source": [
    "# Dependencies and Setup\n",
    "import matplotlib.pyplot as plt\n",
    "import pandas as pd\n",
    "import numpy as np\n",
    "import requests\n",
    "import gmaps\n",
    "import os\n",
    "import csv\n",
    "\n",
    "# Import API key\n",
    "from api_keys import g_key"
   ]
  },
  {
   "cell_type": "code",
   "execution_count": 7,
   "metadata": {},
   "outputs": [
    {
     "data": {
      "text/html": [
       "<div>\n",
       "<style scoped>\n",
       "    .dataframe tbody tr th:only-of-type {\n",
       "        vertical-align: middle;\n",
       "    }\n",
       "\n",
       "    .dataframe tbody tr th {\n",
       "        vertical-align: top;\n",
       "    }\n",
       "\n",
       "    .dataframe thead th {\n",
       "        text-align: right;\n",
       "    }\n",
       "</style>\n",
       "<table border=\"1\" class=\"dataframe\">\n",
       "  <thead>\n",
       "    <tr style=\"text-align: right;\">\n",
       "      <th></th>\n",
       "      <th>City</th>\n",
       "      <th>Country</th>\n",
       "      <th>Date</th>\n",
       "      <th>Humidity</th>\n",
       "      <th>Lat</th>\n",
       "      <th>Lng</th>\n",
       "      <th>Max Temp</th>\n",
       "      <th>Wind Speed</th>\n",
       "    </tr>\n",
       "  </thead>\n",
       "  <tbody>\n",
       "    <tr>\n",
       "      <td>0</td>\n",
       "      <td>Fernie</td>\n",
       "      <td>CA</td>\n",
       "      <td>1584363883</td>\n",
       "      <td>85</td>\n",
       "      <td>49.50</td>\n",
       "      <td>-115.07</td>\n",
       "      <td>14.0</td>\n",
       "      <td>4.38</td>\n",
       "    </tr>\n",
       "    <tr>\n",
       "      <td>1</td>\n",
       "      <td>Hailey</td>\n",
       "      <td>US</td>\n",
       "      <td>1584363885</td>\n",
       "      <td>79</td>\n",
       "      <td>43.52</td>\n",
       "      <td>-114.32</td>\n",
       "      <td>32.0</td>\n",
       "      <td>10.29</td>\n",
       "    </tr>\n",
       "    <tr>\n",
       "      <td>2</td>\n",
       "      <td>Sioux Lookout</td>\n",
       "      <td>CA</td>\n",
       "      <td>1584363672</td>\n",
       "      <td>92</td>\n",
       "      <td>50.10</td>\n",
       "      <td>-91.92</td>\n",
       "      <td>26.6</td>\n",
       "      <td>8.05</td>\n",
       "    </tr>\n",
       "    <tr>\n",
       "      <td>3</td>\n",
       "      <td>Abbeville</td>\n",
       "      <td>FR</td>\n",
       "      <td>1584363712</td>\n",
       "      <td>76</td>\n",
       "      <td>50.10</td>\n",
       "      <td>1.83</td>\n",
       "      <td>51.8</td>\n",
       "      <td>8.05</td>\n",
       "    </tr>\n",
       "    <tr>\n",
       "      <td>4</td>\n",
       "      <td>El Sauzal de Rodríguez</td>\n",
       "      <td>MX</td>\n",
       "      <td>1584363892</td>\n",
       "      <td>91</td>\n",
       "      <td>31.90</td>\n",
       "      <td>-116.68</td>\n",
       "      <td>55.0</td>\n",
       "      <td>4.00</td>\n",
       "    </tr>\n",
       "    <tr>\n",
       "      <td>...</td>\n",
       "      <td>...</td>\n",
       "      <td>...</td>\n",
       "      <td>...</td>\n",
       "      <td>...</td>\n",
       "      <td>...</td>\n",
       "      <td>...</td>\n",
       "      <td>...</td>\n",
       "      <td>...</td>\n",
       "    </tr>\n",
       "    <tr>\n",
       "      <td>649</td>\n",
       "      <td>Cadillac</td>\n",
       "      <td>US</td>\n",
       "      <td>1584365352</td>\n",
       "      <td>68</td>\n",
       "      <td>44.25</td>\n",
       "      <td>-85.40</td>\n",
       "      <td>28.4</td>\n",
       "      <td>9.22</td>\n",
       "    </tr>\n",
       "    <tr>\n",
       "      <td>650</td>\n",
       "      <td>Quincy</td>\n",
       "      <td>US</td>\n",
       "      <td>1584365402</td>\n",
       "      <td>42</td>\n",
       "      <td>42.25</td>\n",
       "      <td>-71.00</td>\n",
       "      <td>33.8</td>\n",
       "      <td>11.41</td>\n",
       "    </tr>\n",
       "    <tr>\n",
       "      <td>651</td>\n",
       "      <td>Waseca</td>\n",
       "      <td>US</td>\n",
       "      <td>1584365435</td>\n",
       "      <td>73</td>\n",
       "      <td>44.08</td>\n",
       "      <td>-93.51</td>\n",
       "      <td>33.8</td>\n",
       "      <td>9.17</td>\n",
       "    </tr>\n",
       "    <tr>\n",
       "      <td>652</td>\n",
       "      <td>Puerto Palomas</td>\n",
       "      <td>MX</td>\n",
       "      <td>1584365613</td>\n",
       "      <td>80</td>\n",
       "      <td>31.77</td>\n",
       "      <td>-107.62</td>\n",
       "      <td>35.6</td>\n",
       "      <td>5.82</td>\n",
       "    </tr>\n",
       "    <tr>\n",
       "      <td>653</td>\n",
       "      <td>Caledonia</td>\n",
       "      <td>US</td>\n",
       "      <td>1584365402</td>\n",
       "      <td>100</td>\n",
       "      <td>42.81</td>\n",
       "      <td>-87.92</td>\n",
       "      <td>34.0</td>\n",
       "      <td>3.36</td>\n",
       "    </tr>\n",
       "  </tbody>\n",
       "</table>\n",
       "<p>654 rows × 8 columns</p>\n",
       "</div>"
      ],
      "text/plain": [
       "                       City Country        Date  Humidity    Lat     Lng  \\\n",
       "0                    Fernie      CA  1584363883        85  49.50 -115.07   \n",
       "1                    Hailey      US  1584363885        79  43.52 -114.32   \n",
       "2             Sioux Lookout      CA  1584363672        92  50.10  -91.92   \n",
       "3                 Abbeville      FR  1584363712        76  50.10    1.83   \n",
       "4    El Sauzal de Rodríguez      MX  1584363892        91  31.90 -116.68   \n",
       "..                      ...     ...         ...       ...    ...     ...   \n",
       "649                Cadillac      US  1584365352        68  44.25  -85.40   \n",
       "650                  Quincy      US  1584365402        42  42.25  -71.00   \n",
       "651                  Waseca      US  1584365435        73  44.08  -93.51   \n",
       "652          Puerto Palomas      MX  1584365613        80  31.77 -107.62   \n",
       "653               Caledonia      US  1584365402       100  42.81  -87.92   \n",
       "\n",
       "     Max Temp  Wind Speed  \n",
       "0        14.0        4.38  \n",
       "1        32.0       10.29  \n",
       "2        26.6        8.05  \n",
       "3        51.8        8.05  \n",
       "4        55.0        4.00  \n",
       "..        ...         ...  \n",
       "649      28.4        9.22  \n",
       "650      33.8       11.41  \n",
       "651      33.8        9.17  \n",
       "652      35.6        5.82  \n",
       "653      34.0        3.36  \n",
       "\n",
       "[654 rows x 8 columns]"
      ]
     },
     "execution_count": 7,
     "metadata": {},
     "output_type": "execute_result"
    }
   ],
   "source": [
    "# load csv from WeatherPy to a DataFrame\n",
    "csv_load = []\n",
    "\n",
    "with open('NA_list.csv','r', encoding=\"utf-8-sig\") as csvfile:    \n",
    "    NA_list = pd.read_csv(csvfile)\n",
    "        \n",
    "NA_list"
   ]
  },
  {
   "cell_type": "code",
   "execution_count": 8,
   "metadata": {},
   "outputs": [],
   "source": [
    "# configure gkey\n",
    "gmaps.configure(api_key=g_key)"
   ]
  },
  {
   "cell_type": "code",
   "execution_count": 9,
   "metadata": {},
   "outputs": [
    {
     "data": {
      "application/vnd.jupyter.widget-view+json": {
       "model_id": "618f1e141b2c42bc957c5886f0f5d0be",
       "version_major": 2,
       "version_minor": 0
      },
      "text/plain": [
       "Figure(layout=FigureLayout(height='420px'))"
      ]
     },
     "metadata": {},
     "output_type": "display_data"
    }
   ],
   "source": [
    "# create weighted heatmap based on coordinates & himidity\n",
    "fig = gmaps.figure()\n",
    "heatmap_layer = gmaps.heatmap_layer(\n",
    "    NA_list[['Lat', 'Lng']], weights=NA_list['Humidity'],\n",
    "    max_intensity=40, point_radius=4.0)\n",
    "fig.add_layer(heatmap_layer)\n",
    "fig"
   ]
  },
  {
   "cell_type": "code",
   "execution_count": null,
   "metadata": {},
   "outputs": [],
   "source": [
    "# create weighted heatmap based on coordinates & himidity\n",
    "fig = gmaps.figure()\n",
    "heatmap_layer = gmaps.heatmap_layer(\n",
    "    NA_list[['Lat', 'Lng']], weights=NA_list[NA_list['Max Temp'] > 0],\n",
    "    max_intensity=10, point_radius=4.0)\n",
    "fig.add_layer(heatmap_layer)\n",
    "fig"
   ]
  },
  {
   "cell_type": "code",
   "execution_count": 11,
   "metadata": {},
   "outputs": [
    {
     "data": {
      "application/vnd.jupyter.widget-view+json": {
       "model_id": "8617f18edb7a4c6ba6155524f9a0796c",
       "version_major": 2,
       "version_minor": 0
      },
      "text/plain": [
       "Figure(layout=FigureLayout(height='420px'))"
      ]
     },
     "metadata": {},
     "output_type": "display_data"
    }
   ],
   "source": [
    "# create weighted heatmap based on coordinates & himidity\n",
    "fig = gmaps.figure()\n",
    "heatmap_layer = gmaps.heatmap_layer(\n",
    "    NA_list[['Lat', 'Lng']], weights=NA_list['Wind Speed'],\n",
    "    max_intensity=10, point_radius=4.0)\n",
    "fig.add_layer(heatmap_layer)\n",
    "fig"
   ]
  },
  {
   "cell_type": "code",
   "execution_count": null,
   "metadata": {},
   "outputs": [],
   "source": []
  }
 ],
 "metadata": {
  "kernelspec": {
   "display_name": "Python 3.7.4 64-bit ('base': conda)",
   "language": "python",
   "name": "python37464bitbaseconda3f6fbcab3f3147df967fed2ae75b107d"
  },
  "language_info": {
   "codemirror_mode": {
    "name": "ipython",
    "version": 3
   },
   "file_extension": ".py",
   "mimetype": "text/x-python",
   "name": "python",
   "nbconvert_exporter": "python",
   "pygments_lexer": "ipython3",
   "version": "3.7.4"
  }
 },
 "nbformat": 4,
 "nbformat_minor": 2
}
