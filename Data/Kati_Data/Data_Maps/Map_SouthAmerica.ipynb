{
 "cells": [
  {
   "cell_type": "code",
   "execution_count": 1,
   "metadata": {},
   "outputs": [],
   "source": [
    "# Dependencies and Setup\n",
    "import matplotlib.pyplot as plt\n",
    "import pandas as pd\n",
    "import numpy as np\n",
    "import requests\n",
    "import gmaps\n",
    "import os\n",
    "import csv\n",
    "\n",
    "# Import API key\n",
    "from api_keys import g_key"
   ]
  },
  {
   "cell_type": "code",
   "execution_count": 3,
   "metadata": {},
   "outputs": [
    {
     "data": {
      "text/html": [
       "<div>\n",
       "<style scoped>\n",
       "    .dataframe tbody tr th:only-of-type {\n",
       "        vertical-align: middle;\n",
       "    }\n",
       "\n",
       "    .dataframe tbody tr th {\n",
       "        vertical-align: top;\n",
       "    }\n",
       "\n",
       "    .dataframe thead th {\n",
       "        text-align: right;\n",
       "    }\n",
       "</style>\n",
       "<table border=\"1\" class=\"dataframe\">\n",
       "  <thead>\n",
       "    <tr style=\"text-align: right;\">\n",
       "      <th></th>\n",
       "      <th>City</th>\n",
       "      <th>Country</th>\n",
       "      <th>Date</th>\n",
       "      <th>Humidity</th>\n",
       "      <th>Lat</th>\n",
       "      <th>Lng</th>\n",
       "      <th>Max Temp</th>\n",
       "      <th>Min Temp</th>\n",
       "      <th>Wind Speed</th>\n",
       "    </tr>\n",
       "  </thead>\n",
       "  <tbody>\n",
       "    <tr>\n",
       "      <td>0</td>\n",
       "      <td>Barcelos</td>\n",
       "      <td>PT</td>\n",
       "      <td>1584317913</td>\n",
       "      <td>93</td>\n",
       "      <td>41.54</td>\n",
       "      <td>-8.62</td>\n",
       "      <td>44.01</td>\n",
       "      <td>39.00</td>\n",
       "      <td>1.79</td>\n",
       "    </tr>\n",
       "    <tr>\n",
       "      <td>1</td>\n",
       "      <td>Arraial do Cabo</td>\n",
       "      <td>BR</td>\n",
       "      <td>1584317916</td>\n",
       "      <td>82</td>\n",
       "      <td>-22.97</td>\n",
       "      <td>-42.03</td>\n",
       "      <td>78.51</td>\n",
       "      <td>78.51</td>\n",
       "      <td>23.80</td>\n",
       "    </tr>\n",
       "    <tr>\n",
       "      <td>2</td>\n",
       "      <td>Ananas</td>\n",
       "      <td>HT</td>\n",
       "      <td>1584317918</td>\n",
       "      <td>78</td>\n",
       "      <td>19.25</td>\n",
       "      <td>-71.96</td>\n",
       "      <td>70.97</td>\n",
       "      <td>70.97</td>\n",
       "      <td>9.04</td>\n",
       "    </tr>\n",
       "    <tr>\n",
       "      <td>3</td>\n",
       "      <td>Mar del Plata</td>\n",
       "      <td>AR</td>\n",
       "      <td>1584317915</td>\n",
       "      <td>87</td>\n",
       "      <td>-38.00</td>\n",
       "      <td>-57.56</td>\n",
       "      <td>61.00</td>\n",
       "      <td>55.40</td>\n",
       "      <td>2.24</td>\n",
       "    </tr>\n",
       "    <tr>\n",
       "      <td>4</td>\n",
       "      <td>Manacapuru</td>\n",
       "      <td>BR</td>\n",
       "      <td>1584317922</td>\n",
       "      <td>83</td>\n",
       "      <td>-3.30</td>\n",
       "      <td>-60.62</td>\n",
       "      <td>80.60</td>\n",
       "      <td>80.60</td>\n",
       "      <td>3.36</td>\n",
       "    </tr>\n",
       "    <tr>\n",
       "      <td>...</td>\n",
       "      <td>...</td>\n",
       "      <td>...</td>\n",
       "      <td>...</td>\n",
       "      <td>...</td>\n",
       "      <td>...</td>\n",
       "      <td>...</td>\n",
       "      <td>...</td>\n",
       "      <td>...</td>\n",
       "      <td>...</td>\n",
       "    </tr>\n",
       "    <tr>\n",
       "      <td>494</td>\n",
       "      <td>Manaíra</td>\n",
       "      <td>BR</td>\n",
       "      <td>1584319104</td>\n",
       "      <td>92</td>\n",
       "      <td>-7.71</td>\n",
       "      <td>-38.15</td>\n",
       "      <td>72.77</td>\n",
       "      <td>72.77</td>\n",
       "      <td>7.63</td>\n",
       "    </tr>\n",
       "    <tr>\n",
       "      <td>495</td>\n",
       "      <td>Aragarças</td>\n",
       "      <td>BR</td>\n",
       "      <td>1584319106</td>\n",
       "      <td>82</td>\n",
       "      <td>-15.90</td>\n",
       "      <td>-52.25</td>\n",
       "      <td>75.70</td>\n",
       "      <td>75.70</td>\n",
       "      <td>2.98</td>\n",
       "    </tr>\n",
       "    <tr>\n",
       "      <td>496</td>\n",
       "      <td>Arica</td>\n",
       "      <td>CL</td>\n",
       "      <td>1584319109</td>\n",
       "      <td>73</td>\n",
       "      <td>-18.48</td>\n",
       "      <td>-70.30</td>\n",
       "      <td>73.40</td>\n",
       "      <td>69.80</td>\n",
       "      <td>6.93</td>\n",
       "    </tr>\n",
       "    <tr>\n",
       "      <td>497</td>\n",
       "      <td>Bonfim</td>\n",
       "      <td>BR</td>\n",
       "      <td>1584319111</td>\n",
       "      <td>53</td>\n",
       "      <td>3.08</td>\n",
       "      <td>-59.95</td>\n",
       "      <td>85.91</td>\n",
       "      <td>85.91</td>\n",
       "      <td>7.34</td>\n",
       "    </tr>\n",
       "    <tr>\n",
       "      <td>498</td>\n",
       "      <td>Terra Rica</td>\n",
       "      <td>BR</td>\n",
       "      <td>1584319113</td>\n",
       "      <td>77</td>\n",
       "      <td>-22.71</td>\n",
       "      <td>-52.62</td>\n",
       "      <td>76.33</td>\n",
       "      <td>76.33</td>\n",
       "      <td>3.29</td>\n",
       "    </tr>\n",
       "  </tbody>\n",
       "</table>\n",
       "<p>499 rows × 9 columns</p>\n",
       "</div>"
      ],
      "text/plain": [
       "                City Country        Date  Humidity    Lat    Lng  Max Temp  \\\n",
       "0           Barcelos      PT  1584317913        93  41.54  -8.62     44.01   \n",
       "1    Arraial do Cabo      BR  1584317916        82 -22.97 -42.03     78.51   \n",
       "2             Ananas      HT  1584317918        78  19.25 -71.96     70.97   \n",
       "3      Mar del Plata      AR  1584317915        87 -38.00 -57.56     61.00   \n",
       "4         Manacapuru      BR  1584317922        83  -3.30 -60.62     80.60   \n",
       "..               ...     ...         ...       ...    ...    ...       ...   \n",
       "494          Manaíra      BR  1584319104        92  -7.71 -38.15     72.77   \n",
       "495        Aragarças      BR  1584319106        82 -15.90 -52.25     75.70   \n",
       "496            Arica      CL  1584319109        73 -18.48 -70.30     73.40   \n",
       "497           Bonfim      BR  1584319111        53   3.08 -59.95     85.91   \n",
       "498       Terra Rica      BR  1584319113        77 -22.71 -52.62     76.33   \n",
       "\n",
       "     Min Temp  Wind Speed  \n",
       "0       39.00        1.79  \n",
       "1       78.51       23.80  \n",
       "2       70.97        9.04  \n",
       "3       55.40        2.24  \n",
       "4       80.60        3.36  \n",
       "..        ...         ...  \n",
       "494     72.77        7.63  \n",
       "495     75.70        2.98  \n",
       "496     69.80        6.93  \n",
       "497     85.91        7.34  \n",
       "498     76.33        3.29  \n",
       "\n",
       "[499 rows x 9 columns]"
      ]
     },
     "execution_count": 3,
     "metadata": {},
     "output_type": "execute_result"
    }
   ],
   "source": [
    "# load csv from WeatherPy to a DataFrame\n",
    "csv_load = []\n",
    "\n",
    "with open('SA_list.csv','r', encoding=\"utf-8-sig\") as csvfile:    \n",
    "    SA_list = pd.read_csv(csvfile)\n",
    "        \n",
    "SA_list"
   ]
  },
  {
   "cell_type": "code",
   "execution_count": 4,
   "metadata": {},
   "outputs": [],
   "source": [
    "# configure gkey\n",
    "gmaps.configure(api_key=g_key)"
   ]
  },
  {
   "cell_type": "code",
   "execution_count": 13,
   "metadata": {},
   "outputs": [
    {
     "data": {
      "application/vnd.jupyter.widget-view+json": {
       "model_id": "525d3f1c14e94d24919763351db1dc0d",
       "version_major": 2,
       "version_minor": 0
      },
      "text/plain": [
       "Figure(layout=FigureLayout(height='420px'))"
      ]
     },
     "metadata": {},
     "output_type": "display_data"
    }
   ],
   "source": [
    "# create weighted heatmap based on coordinates & himidity\n",
    "fig = gmaps.figure()\n",
    "heatmap_layer = gmaps.heatmap_layer(\n",
    "    SA_list[['Lat', 'Lng']], weights=SA_list['Humidity'],\n",
    "    max_intensity=10, point_radius=4.0)\n",
    "fig.add_layer(heatmap_layer)\n",
    "fig"
   ]
  },
  {
   "cell_type": "code",
   "execution_count": 12,
   "metadata": {},
   "outputs": [
    {
     "data": {
      "application/vnd.jupyter.widget-view+json": {
       "model_id": "768876132f9f48478587ae32d9a7cf75",
       "version_major": 2,
       "version_minor": 0
      },
      "text/plain": [
       "Figure(layout=FigureLayout(height='420px'))"
      ]
     },
     "metadata": {},
     "output_type": "display_data"
    }
   ],
   "source": [
    "# create weighted heatmap based on coordinates & himidity\n",
    "fig = gmaps.figure()\n",
    "heatmap_layer = gmaps.heatmap_layer(\n",
    "    SA_list[['Lat', 'Lng']], weights=SA_list['Max Temp'],\n",
    "    max_intensity=10, point_radius=4.0)\n",
    "fig.add_layer(heatmap_layer)\n",
    "fig"
   ]
  },
  {
   "cell_type": "code",
   "execution_count": 11,
   "metadata": {},
   "outputs": [
    {
     "data": {
      "application/vnd.jupyter.widget-view+json": {
       "model_id": "e4f912dec2254156a17934b890010029",
       "version_major": 2,
       "version_minor": 0
      },
      "text/plain": [
       "Figure(layout=FigureLayout(height='420px'))"
      ]
     },
     "metadata": {},
     "output_type": "display_data"
    }
   ],
   "source": [
    "# create weighted heatmap based on coordinates & himidity\n",
    "fig = gmaps.figure()\n",
    "heatmap_layer = gmaps.heatmap_layer(\n",
    "    SA_list[['Lat', 'Lng']], weights=SA_list['Wind Speed'],\n",
    "    max_intensity=10, point_radius=4.0)\n",
    "fig.add_layer(heatmap_layer)\n",
    "fig"
   ]
  },
  {
   "cell_type": "code",
   "execution_count": null,
   "metadata": {},
   "outputs": [],
   "source": []
  }
 ],
 "metadata": {
  "kernelspec": {
   "display_name": "Python 3.7.4 64-bit ('base': conda)",
   "language": "python",
   "name": "python37464bitbaseconda3f6fbcab3f3147df967fed2ae75b107d"
  },
  "language_info": {
   "codemirror_mode": {
    "name": "ipython",
    "version": 3
   },
   "file_extension": ".py",
   "mimetype": "text/x-python",
   "name": "python",
   "nbconvert_exporter": "python",
   "pygments_lexer": "ipython3",
   "version": "3.7.4"
  }
 },
 "nbformat": 4,
 "nbformat_minor": 2
}
