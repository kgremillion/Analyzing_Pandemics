{
 "cells": [
  {
   "cell_type": "code",
   "execution_count": 1,
   "metadata": {},
   "outputs": [],
   "source": [
    "# Dependencies and Setup\n",
    "import matplotlib.pyplot as plt\n",
    "import pandas as pd\n",
    "import numpy as np\n",
    "import requests\n",
    "import gmaps\n",
    "import os\n",
    "import csv\n",
    "\n",
    "# Import API key\n",
    "from api_keys import g_key"
   ]
  },
  {
   "cell_type": "code",
   "execution_count": 2,
   "metadata": {},
   "outputs": [
    {
     "data": {
      "text/html": [
       "<div>\n",
       "<style scoped>\n",
       "    .dataframe tbody tr th:only-of-type {\n",
       "        vertical-align: middle;\n",
       "    }\n",
       "\n",
       "    .dataframe tbody tr th {\n",
       "        vertical-align: top;\n",
       "    }\n",
       "\n",
       "    .dataframe thead th {\n",
       "        text-align: right;\n",
       "    }\n",
       "</style>\n",
       "<table border=\"1\" class=\"dataframe\">\n",
       "  <thead>\n",
       "    <tr style=\"text-align: right;\">\n",
       "      <th></th>\n",
       "      <th>City</th>\n",
       "      <th>Country</th>\n",
       "      <th>Date</th>\n",
       "      <th>Humidity</th>\n",
       "      <th>Lat</th>\n",
       "      <th>Lng</th>\n",
       "      <th>Max Temp</th>\n",
       "      <th>Wind Speed</th>\n",
       "    </tr>\n",
       "  </thead>\n",
       "  <tbody>\n",
       "    <tr>\n",
       "      <td>0</td>\n",
       "      <td>San Andrés</td>\n",
       "      <td>CO</td>\n",
       "      <td>1584317506</td>\n",
       "      <td>66</td>\n",
       "      <td>12.58</td>\n",
       "      <td>-81.70</td>\n",
       "      <td>84.20</td>\n",
       "      <td>11.41</td>\n",
       "    </tr>\n",
       "    <tr>\n",
       "      <td>1</td>\n",
       "      <td>Concordia</td>\n",
       "      <td>AR</td>\n",
       "      <td>1584317654</td>\n",
       "      <td>96</td>\n",
       "      <td>-31.39</td>\n",
       "      <td>-58.02</td>\n",
       "      <td>69.01</td>\n",
       "      <td>8.99</td>\n",
       "    </tr>\n",
       "    <tr>\n",
       "      <td>2</td>\n",
       "      <td>Nicoya</td>\n",
       "      <td>CR</td>\n",
       "      <td>1584317138</td>\n",
       "      <td>40</td>\n",
       "      <td>10.15</td>\n",
       "      <td>-85.45</td>\n",
       "      <td>89.60</td>\n",
       "      <td>24.16</td>\n",
       "    </tr>\n",
       "    <tr>\n",
       "      <td>3</td>\n",
       "      <td>Puerto Escondido</td>\n",
       "      <td>MX</td>\n",
       "      <td>1584317626</td>\n",
       "      <td>83</td>\n",
       "      <td>15.85</td>\n",
       "      <td>-97.07</td>\n",
       "      <td>84.20</td>\n",
       "      <td>6.93</td>\n",
       "    </tr>\n",
       "    <tr>\n",
       "      <td>4</td>\n",
       "      <td>Puerto Ayora</td>\n",
       "      <td>EC</td>\n",
       "      <td>1584317287</td>\n",
       "      <td>78</td>\n",
       "      <td>-0.74</td>\n",
       "      <td>-90.35</td>\n",
       "      <td>82.40</td>\n",
       "      <td>10.29</td>\n",
       "    </tr>\n",
       "    <tr>\n",
       "      <td>...</td>\n",
       "      <td>...</td>\n",
       "      <td>...</td>\n",
       "      <td>...</td>\n",
       "      <td>...</td>\n",
       "      <td>...</td>\n",
       "      <td>...</td>\n",
       "      <td>...</td>\n",
       "      <td>...</td>\n",
       "    </tr>\n",
       "    <tr>\n",
       "      <td>339</td>\n",
       "      <td>Jacala</td>\n",
       "      <td>MX</td>\n",
       "      <td>1584318453</td>\n",
       "      <td>82</td>\n",
       "      <td>21.02</td>\n",
       "      <td>-99.18</td>\n",
       "      <td>67.96</td>\n",
       "      <td>5.35</td>\n",
       "    </tr>\n",
       "    <tr>\n",
       "      <td>340</td>\n",
       "      <td>Valle de Allende</td>\n",
       "      <td>MX</td>\n",
       "      <td>1584318184</td>\n",
       "      <td>20</td>\n",
       "      <td>26.93</td>\n",
       "      <td>-105.40</td>\n",
       "      <td>78.75</td>\n",
       "      <td>16.93</td>\n",
       "    </tr>\n",
       "    <tr>\n",
       "      <td>341</td>\n",
       "      <td>La Reforma</td>\n",
       "      <td>MX</td>\n",
       "      <td>1584318457</td>\n",
       "      <td>47</td>\n",
       "      <td>25.08</td>\n",
       "      <td>-108.05</td>\n",
       "      <td>80.60</td>\n",
       "      <td>3.36</td>\n",
       "    </tr>\n",
       "    <tr>\n",
       "      <td>342</td>\n",
       "      <td>Palmas Bellas</td>\n",
       "      <td>PA</td>\n",
       "      <td>1584318459</td>\n",
       "      <td>61</td>\n",
       "      <td>9.23</td>\n",
       "      <td>-80.09</td>\n",
       "      <td>86.00</td>\n",
       "      <td>10.29</td>\n",
       "    </tr>\n",
       "    <tr>\n",
       "      <td>343</td>\n",
       "      <td>Colón</td>\n",
       "      <td>PA</td>\n",
       "      <td>1584318461</td>\n",
       "      <td>61</td>\n",
       "      <td>9.36</td>\n",
       "      <td>-79.90</td>\n",
       "      <td>86.00</td>\n",
       "      <td>10.29</td>\n",
       "    </tr>\n",
       "  </tbody>\n",
       "</table>\n",
       "<p>344 rows × 8 columns</p>\n",
       "</div>"
      ],
      "text/plain": [
       "                 City Country        Date  Humidity    Lat     Lng  Max Temp  \\\n",
       "0          San Andrés      CO  1584317506        66  12.58  -81.70     84.20   \n",
       "1           Concordia      AR  1584317654        96 -31.39  -58.02     69.01   \n",
       "2              Nicoya      CR  1584317138        40  10.15  -85.45     89.60   \n",
       "3    Puerto Escondido      MX  1584317626        83  15.85  -97.07     84.20   \n",
       "4        Puerto Ayora      EC  1584317287        78  -0.74  -90.35     82.40   \n",
       "..                ...     ...         ...       ...    ...     ...       ...   \n",
       "339            Jacala      MX  1584318453        82  21.02  -99.18     67.96   \n",
       "340  Valle de Allende      MX  1584318184        20  26.93 -105.40     78.75   \n",
       "341        La Reforma      MX  1584318457        47  25.08 -108.05     80.60   \n",
       "342     Palmas Bellas      PA  1584318459        61   9.23  -80.09     86.00   \n",
       "343             Colón      PA  1584318461        61   9.36  -79.90     86.00   \n",
       "\n",
       "     Wind Speed  \n",
       "0         11.41  \n",
       "1          8.99  \n",
       "2         24.16  \n",
       "3          6.93  \n",
       "4         10.29  \n",
       "..          ...  \n",
       "339        5.35  \n",
       "340       16.93  \n",
       "341        3.36  \n",
       "342       10.29  \n",
       "343       10.29  \n",
       "\n",
       "[344 rows x 8 columns]"
      ]
     },
     "execution_count": 2,
     "metadata": {},
     "output_type": "execute_result"
    }
   ],
   "source": [
    "# load csv from WeatherPy to a DataFrame\n",
    "csv_load = []\n",
    "\n",
    "with open('CA_list.csv','r', encoding=\"utf-8-sig\") as csvfile:    \n",
    "    CA_list = pd.read_csv(csvfile)\n",
    "        \n",
    "CA_list"
   ]
  },
  {
   "cell_type": "code",
   "execution_count": 5,
   "metadata": {},
   "outputs": [],
   "source": [
    "# configure gkey\n",
    "gmaps.configure(api_key=g_key)"
   ]
  },
  {
   "cell_type": "code",
   "execution_count": 8,
   "metadata": {},
   "outputs": [
    {
     "data": {
      "application/vnd.jupyter.widget-view+json": {
       "model_id": "750cf1b061164c6890677606bff0eca2",
       "version_major": 2,
       "version_minor": 0
      },
      "text/plain": [
       "Figure(layout=FigureLayout(height='420px'))"
      ]
     },
     "metadata": {},
     "output_type": "display_data"
    }
   ],
   "source": [
    "# create weighted heatmap based on coordinates & himidity\n",
    "fig = gmaps.figure()\n",
    "heatmap_layer = gmaps.heatmap_layer(\n",
    "    CA_list[['Lat', 'Lng']], weights=CA_list['Humidity'],\n",
    "    max_intensity=10, point_radius=4.0)\n",
    "fig.add_layer(heatmap_layer)\n",
    "fig"
   ]
  },
  {
   "cell_type": "code",
   "execution_count": 7,
   "metadata": {},
   "outputs": [
    {
     "data": {
      "application/vnd.jupyter.widget-view+json": {
       "model_id": "3745eacecfcb495faf822ae69f1663d1",
       "version_major": 2,
       "version_minor": 0
      },
      "text/plain": [
       "Figure(layout=FigureLayout(height='420px'))"
      ]
     },
     "metadata": {},
     "output_type": "display_data"
    }
   ],
   "source": [
    "# create weighted heatmap based on coordinates & himidity\n",
    "fig = gmaps.figure()\n",
    "heatmap_layer = gmaps.heatmap_layer(\n",
    "    CA_list[['Lat', 'Lng']], weights=CA_list['Max Temp'],\n",
    "    max_intensity=10, point_radius=4.0)\n",
    "fig.add_layer(heatmap_layer)\n",
    "fig"
   ]
  },
  {
   "cell_type": "code",
   "execution_count": 10,
   "metadata": {},
   "outputs": [
    {
     "data": {
      "application/vnd.jupyter.widget-view+json": {
       "model_id": "c8fe885d69744238b52269bf7c82a800",
       "version_major": 2,
       "version_minor": 0
      },
      "text/plain": [
       "Figure(layout=FigureLayout(height='420px'))"
      ]
     },
     "metadata": {},
     "output_type": "display_data"
    }
   ],
   "source": [
    "# create weighted heatmap based on coordinates & himidity\n",
    "fig = gmaps.figure()\n",
    "heatmap_layer = gmaps.heatmap_layer(\n",
    "    CA_list[['Lat', 'Lng']], weights=CA_list['Wind Speed'],\n",
    "    max_intensity=10, point_radius=4.0)\n",
    "fig.add_layer(heatmap_layer)\n",
    "fig"
   ]
  },
  {
   "cell_type": "code",
   "execution_count": null,
   "metadata": {},
   "outputs": [],
   "source": []
  }
 ],
 "metadata": {
  "kernelspec": {
   "display_name": "Python 3.7.4 64-bit ('base': conda)",
   "language": "python",
   "name": "python37464bitbaseconda3f6fbcab3f3147df967fed2ae75b107d"
  },
  "language_info": {
   "codemirror_mode": {
    "name": "ipython",
    "version": 3
   },
   "file_extension": ".py",
   "mimetype": "text/x-python",
   "name": "python",
   "nbconvert_exporter": "python",
   "pygments_lexer": "ipython3",
   "version": "3.7.4"
  }
 },
 "nbformat": 4,
 "nbformat_minor": 2
}
