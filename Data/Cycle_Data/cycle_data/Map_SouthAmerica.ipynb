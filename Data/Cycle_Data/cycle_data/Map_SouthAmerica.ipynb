{
 "cells": [
  {
   "cell_type": "code",
   "execution_count": 1,
   "metadata": {},
   "outputs": [],
   "source": [
    "# Dependencies and Setup\n",
    "import matplotlib.pyplot as plt\n",
    "import pandas as pd\n",
    "import numpy as np\n",
    "import requests\n",
    "import gmaps\n",
    "import os\n",
    "import csv\n",
    "\n",
    "# Import API key\n",
    "from api_keys import g_key"
   ]
  },
  {
   "cell_type": "code",
   "execution_count": 2,
   "metadata": {},
   "outputs": [
    {
     "data": {
      "text/html": [
       "<div>\n",
       "<style scoped>\n",
       "    .dataframe tbody tr th:only-of-type {\n",
       "        vertical-align: middle;\n",
       "    }\n",
       "\n",
       "    .dataframe tbody tr th {\n",
       "        vertical-align: top;\n",
       "    }\n",
       "\n",
       "    .dataframe thead th {\n",
       "        text-align: right;\n",
       "    }\n",
       "</style>\n",
       "<table border=\"1\" class=\"dataframe\">\n",
       "  <thead>\n",
       "    <tr style=\"text-align: right;\">\n",
       "      <th></th>\n",
       "      <th>City</th>\n",
       "      <th>Country</th>\n",
       "      <th>Date</th>\n",
       "      <th>Humidity</th>\n",
       "      <th>Lat</th>\n",
       "      <th>Lng</th>\n",
       "      <th>Max Temp</th>\n",
       "      <th>Min Temp</th>\n",
       "      <th>Wind Speed</th>\n",
       "    </tr>\n",
       "  </thead>\n",
       "  <tbody>\n",
       "    <tr>\n",
       "      <td>0</td>\n",
       "      <td>Rawson</td>\n",
       "      <td>AR</td>\n",
       "      <td>1584367349</td>\n",
       "      <td>59</td>\n",
       "      <td>-43.30</td>\n",
       "      <td>-65.10</td>\n",
       "      <td>67.01</td>\n",
       "      <td>67.01</td>\n",
       "      <td>3.29</td>\n",
       "    </tr>\n",
       "    <tr>\n",
       "      <td>1</td>\n",
       "      <td>Punta Arenas</td>\n",
       "      <td>CL</td>\n",
       "      <td>1584367351</td>\n",
       "      <td>71</td>\n",
       "      <td>-53.15</td>\n",
       "      <td>-70.92</td>\n",
       "      <td>53.60</td>\n",
       "      <td>51.80</td>\n",
       "      <td>24.16</td>\n",
       "    </tr>\n",
       "    <tr>\n",
       "      <td>2</td>\n",
       "      <td>Gilbués</td>\n",
       "      <td>BR</td>\n",
       "      <td>1584367251</td>\n",
       "      <td>91</td>\n",
       "      <td>-9.83</td>\n",
       "      <td>-45.34</td>\n",
       "      <td>72.23</td>\n",
       "      <td>72.23</td>\n",
       "      <td>3.96</td>\n",
       "    </tr>\n",
       "    <tr>\n",
       "      <td>3</td>\n",
       "      <td>Alta Floresta</td>\n",
       "      <td>BR</td>\n",
       "      <td>1584367355</td>\n",
       "      <td>78</td>\n",
       "      <td>-9.88</td>\n",
       "      <td>-56.09</td>\n",
       "      <td>82.40</td>\n",
       "      <td>82.40</td>\n",
       "      <td>3.36</td>\n",
       "    </tr>\n",
       "    <tr>\n",
       "      <td>4</td>\n",
       "      <td>Mar del Plata</td>\n",
       "      <td>AR</td>\n",
       "      <td>1584367349</td>\n",
       "      <td>77</td>\n",
       "      <td>-38.00</td>\n",
       "      <td>-57.56</td>\n",
       "      <td>62.01</td>\n",
       "      <td>60.80</td>\n",
       "      <td>5.82</td>\n",
       "    </tr>\n",
       "    <tr>\n",
       "      <td>...</td>\n",
       "      <td>...</td>\n",
       "      <td>...</td>\n",
       "      <td>...</td>\n",
       "      <td>...</td>\n",
       "      <td>...</td>\n",
       "      <td>...</td>\n",
       "      <td>...</td>\n",
       "      <td>...</td>\n",
       "      <td>...</td>\n",
       "    </tr>\n",
       "    <tr>\n",
       "      <td>522</td>\n",
       "      <td>Riberalta</td>\n",
       "      <td>BO</td>\n",
       "      <td>1584368638</td>\n",
       "      <td>83</td>\n",
       "      <td>-10.98</td>\n",
       "      <td>-66.10</td>\n",
       "      <td>80.60</td>\n",
       "      <td>80.60</td>\n",
       "      <td>5.82</td>\n",
       "    </tr>\n",
       "    <tr>\n",
       "      <td>523</td>\n",
       "      <td>Macusani</td>\n",
       "      <td>PE</td>\n",
       "      <td>1584368640</td>\n",
       "      <td>92</td>\n",
       "      <td>-14.08</td>\n",
       "      <td>-70.43</td>\n",
       "      <td>37.49</td>\n",
       "      <td>37.49</td>\n",
       "      <td>4.85</td>\n",
       "    </tr>\n",
       "    <tr>\n",
       "      <td>524</td>\n",
       "      <td>Trindade</td>\n",
       "      <td>BR</td>\n",
       "      <td>1584368642</td>\n",
       "      <td>58</td>\n",
       "      <td>-16.65</td>\n",
       "      <td>-49.49</td>\n",
       "      <td>82.40</td>\n",
       "      <td>82.40</td>\n",
       "      <td>5.82</td>\n",
       "    </tr>\n",
       "    <tr>\n",
       "      <td>525</td>\n",
       "      <td>Ribeira do Pombal</td>\n",
       "      <td>BR</td>\n",
       "      <td>1584368645</td>\n",
       "      <td>51</td>\n",
       "      <td>-10.83</td>\n",
       "      <td>-38.54</td>\n",
       "      <td>87.35</td>\n",
       "      <td>87.35</td>\n",
       "      <td>5.06</td>\n",
       "    </tr>\n",
       "    <tr>\n",
       "      <td>526</td>\n",
       "      <td>Camapuã</td>\n",
       "      <td>BR</td>\n",
       "      <td>1584368647</td>\n",
       "      <td>76</td>\n",
       "      <td>-19.53</td>\n",
       "      <td>-54.04</td>\n",
       "      <td>82.31</td>\n",
       "      <td>82.31</td>\n",
       "      <td>7.05</td>\n",
       "    </tr>\n",
       "  </tbody>\n",
       "</table>\n",
       "<p>527 rows × 9 columns</p>\n",
       "</div>"
      ],
      "text/plain": [
       "                  City Country        Date  Humidity    Lat    Lng  Max Temp  \\\n",
       "0               Rawson      AR  1584367349        59 -43.30 -65.10     67.01   \n",
       "1         Punta Arenas      CL  1584367351        71 -53.15 -70.92     53.60   \n",
       "2              Gilbués      BR  1584367251        91  -9.83 -45.34     72.23   \n",
       "3        Alta Floresta      BR  1584367355        78  -9.88 -56.09     82.40   \n",
       "4        Mar del Plata      AR  1584367349        77 -38.00 -57.56     62.01   \n",
       "..                 ...     ...         ...       ...    ...    ...       ...   \n",
       "522          Riberalta      BO  1584368638        83 -10.98 -66.10     80.60   \n",
       "523           Macusani      PE  1584368640        92 -14.08 -70.43     37.49   \n",
       "524           Trindade      BR  1584368642        58 -16.65 -49.49     82.40   \n",
       "525  Ribeira do Pombal      BR  1584368645        51 -10.83 -38.54     87.35   \n",
       "526            Camapuã      BR  1584368647        76 -19.53 -54.04     82.31   \n",
       "\n",
       "     Min Temp  Wind Speed  \n",
       "0       67.01        3.29  \n",
       "1       51.80       24.16  \n",
       "2       72.23        3.96  \n",
       "3       82.40        3.36  \n",
       "4       60.80        5.82  \n",
       "..        ...         ...  \n",
       "522     80.60        5.82  \n",
       "523     37.49        4.85  \n",
       "524     82.40        5.82  \n",
       "525     87.35        5.06  \n",
       "526     82.31        7.05  \n",
       "\n",
       "[527 rows x 9 columns]"
      ]
     },
     "execution_count": 2,
     "metadata": {},
     "output_type": "execute_result"
    }
   ],
   "source": [
    "# load csv from WeatherPy to a DataFrame\n",
    "csv_load = []\n",
    "\n",
    "with open('SA_list.csv','r', encoding=\"utf-8-sig\") as csvfile:    \n",
    "    SA_list = pd.read_csv(csvfile)\n",
    "        \n",
    "SA_list"
   ]
  },
  {
   "cell_type": "code",
   "execution_count": 3,
   "metadata": {},
   "outputs": [],
   "source": [
    "# configure gkey\n",
    "gmaps.configure(api_key=g_key)"
   ]
  },
  {
   "cell_type": "code",
   "execution_count": 4,
   "metadata": {},
   "outputs": [
    {
     "data": {
      "application/vnd.jupyter.widget-view+json": {
       "model_id": "de812cf6b45b4ec497b7bab576edda54",
       "version_major": 2,
       "version_minor": 0
      },
      "text/plain": [
       "Figure(layout=FigureLayout(height='420px'))"
      ]
     },
     "metadata": {},
     "output_type": "display_data"
    }
   ],
   "source": [
    "# create weighted heatmap based on coordinates & himidity\n",
    "fig = gmaps.figure()\n",
    "heatmap_layer = gmaps.heatmap_layer(\n",
    "    SA_list[['Lat', 'Lng']], weights=SA_list['Humidity'],\n",
    "    max_intensity=10, point_radius=4.0)\n",
    "fig.add_layer(heatmap_layer)\n",
    "fig"
   ]
  },
  {
   "cell_type": "code",
   "execution_count": 5,
   "metadata": {},
   "outputs": [
    {
     "data": {
      "application/vnd.jupyter.widget-view+json": {
       "model_id": "d0044187a2044d258922b1000cbda412",
       "version_major": 2,
       "version_minor": 0
      },
      "text/plain": [
       "Figure(layout=FigureLayout(height='420px'))"
      ]
     },
     "metadata": {},
     "output_type": "display_data"
    }
   ],
   "source": [
    "# create weighted heatmap based on coordinates & himidity\n",
    "fig = gmaps.figure()\n",
    "heatmap_layer = gmaps.heatmap_layer(\n",
    "    SA_list[['Lat', 'Lng']], weights=SA_list['Max Temp'],\n",
    "    max_intensity=10, point_radius=4.0)\n",
    "fig.add_layer(heatmap_layer)\n",
    "fig"
   ]
  },
  {
   "cell_type": "code",
   "execution_count": 6,
   "metadata": {},
   "outputs": [
    {
     "data": {
      "application/vnd.jupyter.widget-view+json": {
       "model_id": "1747eca187a44b018ea7816836d6d2e3",
       "version_major": 2,
       "version_minor": 0
      },
      "text/plain": [
       "Figure(layout=FigureLayout(height='420px'))"
      ]
     },
     "metadata": {},
     "output_type": "display_data"
    }
   ],
   "source": [
    "# create weighted heatmap based on coordinates & himidity\n",
    "fig = gmaps.figure()\n",
    "heatmap_layer = gmaps.heatmap_layer(\n",
    "    SA_list[['Lat', 'Lng']], weights=SA_list['Wind Speed'],\n",
    "    max_intensity=10, point_radius=4.0)\n",
    "fig.add_layer(heatmap_layer)\n",
    "fig"
   ]
  },
  {
   "cell_type": "code",
   "execution_count": null,
   "metadata": {},
   "outputs": [],
   "source": []
  }
 ],
 "metadata": {
  "kernelspec": {
   "display_name": "Python 3.7.4 64-bit ('base': conda)",
   "language": "python",
   "name": "python37464bitbaseconda3f6fbcab3f3147df967fed2ae75b107d"
  },
  "language_info": {
   "codemirror_mode": {
    "name": "ipython",
    "version": 3
   },
   "file_extension": ".py",
   "mimetype": "text/x-python",
   "name": "python",
   "nbconvert_exporter": "python",
   "pygments_lexer": "ipython3",
   "version": "3.7.4"
  }
 },
 "nbformat": 4,
 "nbformat_minor": 2
}
