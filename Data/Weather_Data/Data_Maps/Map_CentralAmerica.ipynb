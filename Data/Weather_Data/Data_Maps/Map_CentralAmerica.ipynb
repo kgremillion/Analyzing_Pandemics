{
 "cells": [
  {
   "cell_type": "code",
   "execution_count": 7,
   "metadata": {},
   "outputs": [],
   "source": [
    "# Dependencies and Setup\n",
    "import matplotlib.pyplot as plt\n",
    "import pandas as pd\n",
    "import numpy as np\n",
    "import requests\n",
    "import gmaps\n",
    "import os\n",
    "import csv\n",
    "\n",
    "# Import API key\n",
    "from api_keys import g_key"
   ]
  },
  {
   "cell_type": "code",
   "execution_count": 8,
   "metadata": {},
   "outputs": [
    {
     "data": {
      "text/html": [
       "<div>\n",
       "<style scoped>\n",
       "    .dataframe tbody tr th:only-of-type {\n",
       "        vertical-align: middle;\n",
       "    }\n",
       "\n",
       "    .dataframe tbody tr th {\n",
       "        vertical-align: top;\n",
       "    }\n",
       "\n",
       "    .dataframe thead th {\n",
       "        text-align: right;\n",
       "    }\n",
       "</style>\n",
       "<table border=\"1\" class=\"dataframe\">\n",
       "  <thead>\n",
       "    <tr style=\"text-align: right;\">\n",
       "      <th></th>\n",
       "      <th>City</th>\n",
       "      <th>Country</th>\n",
       "      <th>Date</th>\n",
       "      <th>Humidity</th>\n",
       "      <th>Lat</th>\n",
       "      <th>Lng</th>\n",
       "      <th>Max Temp</th>\n",
       "      <th>Wind Speed</th>\n",
       "    </tr>\n",
       "  </thead>\n",
       "  <tbody>\n",
       "    <tr>\n",
       "      <td>0</td>\n",
       "      <td>Paredon</td>\n",
       "      <td>MX</td>\n",
       "      <td>1584366220</td>\n",
       "      <td>59</td>\n",
       "      <td>16.03</td>\n",
       "      <td>-93.87</td>\n",
       "      <td>85.55</td>\n",
       "      <td>17.69</td>\n",
       "    </tr>\n",
       "    <tr>\n",
       "      <td>1</td>\n",
       "      <td>Puerto Ayora</td>\n",
       "      <td>EC</td>\n",
       "      <td>1584366222</td>\n",
       "      <td>88</td>\n",
       "      <td>-0.74</td>\n",
       "      <td>-90.35</td>\n",
       "      <td>80.01</td>\n",
       "      <td>4.70</td>\n",
       "    </tr>\n",
       "    <tr>\n",
       "      <td>2</td>\n",
       "      <td>Creel</td>\n",
       "      <td>MX</td>\n",
       "      <td>1584366224</td>\n",
       "      <td>57</td>\n",
       "      <td>27.75</td>\n",
       "      <td>-107.63</td>\n",
       "      <td>53.33</td>\n",
       "      <td>3.85</td>\n",
       "    </tr>\n",
       "    <tr>\n",
       "      <td>3</td>\n",
       "      <td>San Cristobal</td>\n",
       "      <td>VE</td>\n",
       "      <td>1584366247</td>\n",
       "      <td>83</td>\n",
       "      <td>7.77</td>\n",
       "      <td>-72.22</td>\n",
       "      <td>75.20</td>\n",
       "      <td>2.24</td>\n",
       "    </tr>\n",
       "    <tr>\n",
       "      <td>4</td>\n",
       "      <td>Coahuayana Viejo</td>\n",
       "      <td>MX</td>\n",
       "      <td>1584366249</td>\n",
       "      <td>88</td>\n",
       "      <td>18.73</td>\n",
       "      <td>-103.68</td>\n",
       "      <td>69.80</td>\n",
       "      <td>2.59</td>\n",
       "    </tr>\n",
       "    <tr>\n",
       "      <td>...</td>\n",
       "      <td>...</td>\n",
       "      <td>...</td>\n",
       "      <td>...</td>\n",
       "      <td>...</td>\n",
       "      <td>...</td>\n",
       "      <td>...</td>\n",
       "      <td>...</td>\n",
       "      <td>...</td>\n",
       "    </tr>\n",
       "    <tr>\n",
       "      <td>326</td>\n",
       "      <td>El Silencio</td>\n",
       "      <td>VE</td>\n",
       "      <td>1584367069</td>\n",
       "      <td>46</td>\n",
       "      <td>10.50</td>\n",
       "      <td>-66.92</td>\n",
       "      <td>73.99</td>\n",
       "      <td>2.24</td>\n",
       "    </tr>\n",
       "    <tr>\n",
       "      <td>327</td>\n",
       "      <td>Graciano Sánchez</td>\n",
       "      <td>MX</td>\n",
       "      <td>1584367071</td>\n",
       "      <td>83</td>\n",
       "      <td>23.92</td>\n",
       "      <td>-99.28</td>\n",
       "      <td>69.80</td>\n",
       "      <td>6.93</td>\n",
       "    </tr>\n",
       "    <tr>\n",
       "      <td>328</td>\n",
       "      <td>Escuintla</td>\n",
       "      <td>GT</td>\n",
       "      <td>1584366832</td>\n",
       "      <td>94</td>\n",
       "      <td>14.30</td>\n",
       "      <td>-90.78</td>\n",
       "      <td>71.60</td>\n",
       "      <td>1.97</td>\n",
       "    </tr>\n",
       "    <tr>\n",
       "      <td>329</td>\n",
       "      <td>Clearwater</td>\n",
       "      <td>US</td>\n",
       "      <td>1584367075</td>\n",
       "      <td>94</td>\n",
       "      <td>27.97</td>\n",
       "      <td>-82.80</td>\n",
       "      <td>75.99</td>\n",
       "      <td>5.82</td>\n",
       "    </tr>\n",
       "    <tr>\n",
       "      <td>330</td>\n",
       "      <td>Guanaja</td>\n",
       "      <td>HN</td>\n",
       "      <td>1584367078</td>\n",
       "      <td>83</td>\n",
       "      <td>16.40</td>\n",
       "      <td>-85.90</td>\n",
       "      <td>78.80</td>\n",
       "      <td>9.17</td>\n",
       "    </tr>\n",
       "  </tbody>\n",
       "</table>\n",
       "<p>331 rows × 8 columns</p>\n",
       "</div>"
      ],
      "text/plain": [
       "                 City Country        Date  Humidity    Lat     Lng  Max Temp  \\\n",
       "0             Paredon      MX  1584366220        59  16.03  -93.87     85.55   \n",
       "1        Puerto Ayora      EC  1584366222        88  -0.74  -90.35     80.01   \n",
       "2               Creel      MX  1584366224        57  27.75 -107.63     53.33   \n",
       "3       San Cristobal      VE  1584366247        83   7.77  -72.22     75.20   \n",
       "4    Coahuayana Viejo      MX  1584366249        88  18.73 -103.68     69.80   \n",
       "..                ...     ...         ...       ...    ...     ...       ...   \n",
       "326       El Silencio      VE  1584367069        46  10.50  -66.92     73.99   \n",
       "327  Graciano Sánchez      MX  1584367071        83  23.92  -99.28     69.80   \n",
       "328         Escuintla      GT  1584366832        94  14.30  -90.78     71.60   \n",
       "329        Clearwater      US  1584367075        94  27.97  -82.80     75.99   \n",
       "330           Guanaja      HN  1584367078        83  16.40  -85.90     78.80   \n",
       "\n",
       "     Wind Speed  \n",
       "0         17.69  \n",
       "1          4.70  \n",
       "2          3.85  \n",
       "3          2.24  \n",
       "4          2.59  \n",
       "..          ...  \n",
       "326        2.24  \n",
       "327        6.93  \n",
       "328        1.97  \n",
       "329        5.82  \n",
       "330        9.17  \n",
       "\n",
       "[331 rows x 8 columns]"
      ]
     },
     "execution_count": 8,
     "metadata": {},
     "output_type": "execute_result"
    }
   ],
   "source": [
    "# load csv from WeatherPy to a DataFrame\n",
    "csv_load = []\n",
    "\n",
    "with open('CA_list.csv','r', encoding=\"utf-8-sig\") as csvfile:    \n",
    "    CA_list = pd.read_csv(csvfile)\n",
    "        \n",
    "CA_list"
   ]
  },
  {
   "cell_type": "code",
   "execution_count": 9,
   "metadata": {},
   "outputs": [],
   "source": [
    "# configure gkey\n",
    "gmaps.configure(api_key=g_key)"
   ]
  },
  {
   "cell_type": "code",
   "execution_count": 10,
   "metadata": {},
   "outputs": [
    {
     "data": {
      "application/vnd.jupyter.widget-view+json": {
       "model_id": "e54eae04ddda4c95a6c2adb878b44c44",
       "version_major": 2,
       "version_minor": 0
      },
      "text/plain": [
       "Figure(layout=FigureLayout(height='420px'))"
      ]
     },
     "metadata": {},
     "output_type": "display_data"
    }
   ],
   "source": [
    "# create weighted heatmap based on coordinates & himidity\n",
    "fig = gmaps.figure()\n",
    "heatmap_layer = gmaps.heatmap_layer(\n",
    "    CA_list[['Lat', 'Lng']], weights=CA_list['Humidity'],\n",
    "    max_intensity=10, point_radius=4.0)\n",
    "fig.add_layer(heatmap_layer)\n",
    "fig"
   ]
  },
  {
   "cell_type": "code",
   "execution_count": 11,
   "metadata": {},
   "outputs": [
    {
     "data": {
      "application/vnd.jupyter.widget-view+json": {
       "model_id": "ef0c34e13662491a957dfadddd67f2b8",
       "version_major": 2,
       "version_minor": 0
      },
      "text/plain": [
       "Figure(layout=FigureLayout(height='420px'))"
      ]
     },
     "metadata": {},
     "output_type": "display_data"
    }
   ],
   "source": [
    "# create weighted heatmap based on coordinates & himidity\n",
    "fig = gmaps.figure()\n",
    "heatmap_layer = gmaps.heatmap_layer(\n",
    "    CA_list[['Lat', 'Lng']], weights=CA_list['Max Temp'],\n",
    "    max_intensity=10, point_radius=4.0)\n",
    "fig.add_layer(heatmap_layer)\n",
    "fig"
   ]
  },
  {
   "cell_type": "code",
   "execution_count": 12,
   "metadata": {},
   "outputs": [
    {
     "data": {
      "application/vnd.jupyter.widget-view+json": {
       "model_id": "cf6a460a4ac24926ad52ac9e2e14d820",
       "version_major": 2,
       "version_minor": 0
      },
      "text/plain": [
       "Figure(layout=FigureLayout(height='420px'))"
      ]
     },
     "metadata": {},
     "output_type": "display_data"
    }
   ],
   "source": [
    "# create weighted heatmap based on coordinates & himidity\n",
    "fig = gmaps.figure()\n",
    "heatmap_layer = gmaps.heatmap_layer(\n",
    "    CA_list[['Lat', 'Lng']], weights=CA_list['Wind Speed'],\n",
    "    max_intensity=10, point_radius=4.0)\n",
    "fig.add_layer(heatmap_layer)\n",
    "fig"
   ]
  },
  {
   "cell_type": "code",
   "execution_count": null,
   "metadata": {},
   "outputs": [],
   "source": []
  }
 ],
 "metadata": {
  "kernelspec": {
   "display_name": "Python 3.7.4 64-bit ('base': conda)",
   "language": "python",
   "name": "python37464bitbaseconda3f6fbcab3f3147df967fed2ae75b107d"
  },
  "language_info": {
   "codemirror_mode": {
    "name": "ipython",
    "version": 3
   },
   "file_extension": ".py",
   "mimetype": "text/x-python",
   "name": "python",
   "nbconvert_exporter": "python",
   "pygments_lexer": "ipython3",
   "version": "3.7.4"
  }
 },
 "nbformat": 4,
 "nbformat_minor": 2
}
